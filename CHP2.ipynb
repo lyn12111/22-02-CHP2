{
  "nbformat": 4,
  "nbformat_minor": 0,
  "metadata": {
    "colab": {
      "provenance": [],
      "authorship_tag": "ABX9TyMSpb/1MuhfS3Yu2OPxxcTJ",
      "include_colab_link": true
    },
    "kernelspec": {
      "name": "python3",
      "display_name": "Python 3"
    },
    "language_info": {
      "name": "python"
    }
  },
  "cells": [
    {
      "cell_type": "markdown",
      "metadata": {
        "id": "view-in-github",
        "colab_type": "text"
      },
      "source": [
        "<a href=\"https://colab.research.google.com/github/lyn12111/22-02-CHP2/blob/main/CHP2.ipynb\" target=\"_parent\"><img src=\"https://colab.research.google.com/assets/colab-badge.svg\" alt=\"Open In Colab\"/></a>"
      ]
    },
    {
      "cell_type": "code",
      "execution_count": 6,
      "metadata": {
        "colab": {
          "base_uri": "https://localhost:8080/"
        },
        "id": "0lZwzqzBrcEn",
        "outputId": "eae97563-3bb9-4242-bed8-99307373f938"
      },
      "outputs": [
        {
          "output_type": "stream",
          "name": "stdout",
          "text": [
            "이름을 입력하시오홍길동\n",
            "홍길동 씨,안녕하세요?\n",
            "파이썬에 오신 것을 환영합니다.\n",
            "첫 번째 정수를 입력하시오:300\n",
            "두 번째 정수를 입력하시오:400\n",
            "300 과 400 의 합은 700 입니다.\n"
          ]
        }
      ],
      "source": [
        "name=input(\"이름을 입력하시오\")\n",
        "print(name,\"씨,안녕하세요?\")\n",
        "print(\"파이썬에 오신 것을 환영합니다.\")\n",
        "x=int(input(\"첫 번째 정수를 입력하시오:\"))\n",
        "y=int(input(\"두 번째 정수를 입력하시오:\"))\n",
        "sum=x+y\n",
        "print(x,\"과\",y ,\"의 합은\",sum,\"입니다.\")"
      ]
    },
    {
      "cell_type": "markdown",
      "source": [
        "이름을 입력하시오: 홍길동 홍길동 씨, 안녕하세요? 파이썬에 오신 것을 환영합니다. 첫 번째 정수를 입력하세요: 300 두 번째 정수를 입력하시오: 400 300과 400의 합은 700입니다. "
      ],
      "metadata": {
        "id": "YdG0BeetuwSX"
      }
    },
    {
      "cell_type": "markdown",
      "source": [
        "경기장은 어디입니까? 서울\n",
        "이긴팀은 어디입니까? 삼성\n",
        "진팀은 어디입니까? LG\n",
        "우수선수는 누구입니까? 홍길동 \n",
        "스코어는 몇대몇입니까? 8:7"
      ],
      "metadata": {
        "id": "npAhT9PbwqjF"
      }
    },
    {
      "cell_type": "code",
      "source": [
        "stadium=input(\"경기장은 어디입니까? \")\n",
        "winner=input(\"이긴 팀은 어디입니까?\")\n",
        "loser=input(\"진 팀은 어디입니까?\")\n",
        "vip=input(\"우수선수는 누구입니까?\")\n",
        "score=input(\"스코어는 몇대 몇입니까?\")\n",
        "\n",
        "print(\"\")\n",
        "print(\"=============================================================\")\n",
        "print(\"오늘\",stadium,\"에서 야구 경기가 열렸습니다\")\n",
        "print(winner,\"과\",loser,\"은 치열한 공방전을 펼쳤습니다.\")\n",
        "print(vip,\"이 맹활약을 펼쳤습니다.\")\n",
        "print(\"결국\",winner,\"가\",loser,\"를\",score,\"로 이겼습니다.\")\n",
        "print(\"=============================================================\")"
      ],
      "metadata": {
        "colab": {
          "base_uri": "https://localhost:8080/"
        },
        "id": "BS1J6Ahtw_L9",
        "outputId": "8ecaf6f0-3fed-4489-ebad-049dece0a593"
      },
      "execution_count": 9,
      "outputs": [
        {
          "output_type": "stream",
          "name": "stdout",
          "text": [
            "경기장은 어디입니까? 전주\n",
            "이긴 팀은 어디입니까?기아\n",
            "진 팀은 어디입니까?삼성\n",
            "우수선수는 누구입니까?홍길동\n",
            "스코어는 몇대 몇입니까?12:1\n",
            "\n",
            "=============================================================\n",
            "오늘 전주 에서 야구 경기가 열렸습니다\n",
            "기아 과 삼성 은 치열한 공방전을 펼쳤습니다.\n",
            "홍길동 이 맹활약을 펼쳤습니다.\n",
            "결국 기아 가 삼성 를 12:1 로 이겼습니다.\n",
            "=============================================================\n"
          ]
        }
      ]
    }
  ]
}